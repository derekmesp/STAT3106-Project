{
 "cells": [
  {
   "cell_type": "code",
   "execution_count": null,
   "id": "8244ef2c",
   "metadata": {},
   "outputs": [
    {
     "name": "stdout",
     "output_type": "stream",
     "text": [
      "  Court Index Number  Docket Number         Eviction Address  \\\n",
      "0           71869/17           13576  80-14 ROOSEVELT AVENUE   \n",
      "1           70919/18           89709    110 ROCKAWAY PARKWAY   \n",
      "2          065194/19           31861    300 WEST 46TH STREET   \n",
      "3           79271/16           67040    287 LINDEN BOULEVARD   \n",
      "4          17773/18A           97702      245 WORTMAN AVENUE   \n",
      "\n",
      "  Eviction Apartment Number Executed Date Marshal First Name  \\\n",
      "0                       NaN    03/27/2018             Edward   \n",
      "1                        1R    04/12/2019             Justin   \n",
      "2                      2-A1    08/10/2023               Gary   \n",
      "3                        6D    01/09/2017              Henry   \n",
      "4                       14J    08/23/2019             Justin   \n",
      "\n",
      "  Marshal Last Name Residential/Commercial    BOROUGH  Eviction Postcode  \\\n",
      "0             Guida             Commercial     QUEENS              11372   \n",
      "1          Grossman            Residential   BROOKLYN              11212   \n",
      "2              Rose            Residential  MANHATTAN              10036   \n",
      "3             Daley            Residential   BROOKLYN              11226   \n",
      "4          Grossman            Residential   BROOKLYN              11207   \n",
      "\n",
      "          Ejectment Eviction/Legal Possession   Latitude  Longitude  \\\n",
      "0  Not an Ejectment                Possession  40.747457 -73.885554   \n",
      "1  Not an Ejectment                Possession  40.663737 -73.923051   \n",
      "2  Not an Ejectment                Possession  40.759963 -73.988355   \n",
      "3  Not an Ejectment                Possession  40.652723 -73.948439   \n",
      "4  Not an Ejectment                Possession  40.657282 -73.884224   \n",
      "\n",
      "   Community Board  Council District  Census Tract        BIN           BBL  \\\n",
      "0              4.0              25.0       26901.0  4036844.0  4.014910e+09   \n",
      "1             17.0              41.0         892.0  3100108.0  3.046150e+09   \n",
      "2              4.0               3.0         121.0  1081654.0  1.010360e+09   \n",
      "3             17.0              40.0         818.0  3108079.0  3.048530e+09   \n",
      "4              5.0              42.0        1106.0  3324016.0  3.043710e+09   \n",
      "\n",
      "             NTA  \n",
      "0       Elmhurst  \n",
      "1    Brownsville  \n",
      "2        Clinton  \n",
      "3        Erasmus  \n",
      "4  East New York  \n"
     ]
    }
   ],
   "source": [
    "#Importing the data \n",
    "\n",
    "import pandas as pd\n",
    "data = pd.read_csv('/Users/lloxcilopez/Documents/GitHub/STAT3106-Project/Evictions_20250506.csv')\n",
    "print(data.head())\n"
   ]
  },
  {
   "cell_type": "code",
   "execution_count": 5,
   "id": "793d0c58",
   "metadata": {},
   "outputs": [
    {
     "name": "stdout",
     "output_type": "stream",
     "text": [
      "Initial dataset shape: (108539, 20)\n",
      "Cleaned dataset shape: (88071, 20)\n",
      "BOROUGH\n",
      "BRONX            32012\n",
      "BROOKLYN         25087\n",
      "MANHATTAN        15516\n",
      "QUEENS           12984\n",
      "STATEN ISLAND     2472\n",
      "Name: count, dtype: int64\n"
     ]
    }
   ],
   "source": [
    "#exploring the data \n",
    "\n",
    "#dims\n",
    "import pandas as pd\n",
    "\n",
    "print(f\"Initial dataset shape: {data.shape}\")\n",
    "cleaned_data = data.dropna()\n",
    "print(f\"Cleaned dataset shape: {cleaned_data.shape}\")\n",
    "\n",
    "\n",
    "#stats by borough on evection \n",
    "\n",
    "evictions_per_borough = cleaned_data['BOROUGH'].value_counts()\n",
    "print(evictions_per_borough)\n",
    "\n",
    "\n",
    "\n",
    "\n",
    "\n"
   ]
  }
 ],
 "metadata": {
  "kernelspec": {
   "display_name": "Python (STAT3106)",
   "language": "python",
   "name": "stat3106env"
  },
  "language_info": {
   "codemirror_mode": {
    "name": "ipython",
    "version": 3
   },
   "file_extension": ".py",
   "mimetype": "text/x-python",
   "name": "python",
   "nbconvert_exporter": "python",
   "pygments_lexer": "ipython3",
   "version": "3.12.4"
  }
 },
 "nbformat": 4,
 "nbformat_minor": 5
}
